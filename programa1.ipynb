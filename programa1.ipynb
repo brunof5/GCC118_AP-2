{
  "nbformat": 4,
  "nbformat_minor": 0,
  "metadata": {
    "colab": {
      "provenance": []
    },
    "kernelspec": {
      "name": "python3",
      "display_name": "Python 3"
    },
    "language_info": {
      "name": "python"
    }
  },
  "cells": [
    {
      "cell_type": "markdown",
      "source": [
        "# GCC118 - Programação Matemática\n",
        "## Universidade Federal de Lavras\n",
        "### Instituto de Ciências Exatas e Tecnológicas\n",
        "#### Profa. Andreza C. Beezão Moreira (DMM/UFLA)\n",
        "#### Prof. Mayron César O. Moreira (DCC/UFLA)\n",
        "#### Aluno: Bruno Crespo Ferreira"
      ],
      "metadata": {
        "id": "Hk_0rxrIK-Mj"
      }
    },
    {
      "cell_type": "markdown",
      "source": [
        "## Problema\n",
        "\n",
        "João, Ana e Lydia são os únicos sócios e trabalhadores em uma empresa que produz relógios de primeira qualidade. João e Ana podem dedicar no máximo 40 horas por semana (cada um) à empresa, ao passo que Lydia tem disponibilidade de, no máximo, 20 horas semanais. A empresa fabrica dois tipos de relógios: relógio de pedestal (modelo antigo) e relógio de parede. Para fazer um relógio, João (que é engenheiro) monta as peças mecânicas internas do relógio, enquanto Ana (carpinteira) produz as caixas de madeira esculpidas à mão. Lydia é responsável pelas encomendas e respectiva remessa dos relógios. A quantidade de tempo necessária para cada uma dessas atividades é mostrada a seguir.\n",
        "\n",
        "| Tarefa                           | Relógio de pedestal  | Relógio de parede |\n",
        "|----------------------------------|----------------------|-------------------|\n",
        "| Montagem do mecanismo do relógio | 6h                   | 4h                |\n",
        "| Caixa de madeira esculpida       | 8h                   | 4h                |\n",
        "| Remessa                          | 3h                   | 3h                |\n",
        "\n",
        "Cada relógio de pedestal construído e despachado gera lucro de R\\$ 300,00, ao passo que cada relógio de parede gera lucro de R\\$ 200,00. Os três sócios agora querem determinar quantos relógios de cada tipo devem ser produzidos semanalmente para maximizar o lucro total.\n"
      ],
      "metadata": {
        "id": "nim3VvIpK_QB"
      }
    },
    {
      "cell_type": "markdown",
      "source": [
        "## 1) Modelagem Matemática e Solução Ótima"
      ],
      "metadata": {
        "id": "ozXlu1BHOKwl"
      }
    },
    {
      "cell_type": "markdown",
      "source": [
        "### Parâmetros\n",
        "\n",
        "* Disponibilidade de horas por semana: (40, 40, 20) para João, Ana e Lydia, respectivamente;\n",
        "* A produção/entrega de um relógio de pedestal é: (6, 8, 3) horas para João, Ana e Lydia, respectivamente;\n",
        "* A produção/entrega de um relógio de parede é: (4, 4, 3) horas para João, Ana e Lydia, respectivamente;\n",
        "* Um relógio de pedestal gera lucro de R\\$ 300,00 e um relógio de parede R\\$ 200,00.\n"
      ],
      "metadata": {
        "id": "dDEHhz28OnKz"
      }
    },
    {
      "cell_type": "markdown",
      "source": [
        "### Variáveis\n",
        "\n",
        "* x: quantidade de relógios de pedestal produzidos semanalmente;\n",
        "* y: quantidade de relógios de parede produzidos semanalmente."
      ],
      "metadata": {
        "id": "BDYC_Y_WOoTE"
      }
    },
    {
      "cell_type": "markdown",
      "source": [
        "### Função Objetivo\n",
        "\n",
        "Consiste em **maximizar** o lucro total de relógios produzidos semanalmente.\n",
        "\\begin{equation}\n",
        "max f(x, y) = 300x + 200y\n",
        "\\end{equation}"
      ],
      "metadata": {
        "id": "wnivV0RoOs4X"
      }
    },
    {
      "cell_type": "markdown",
      "source": [
        "### Restrições\n",
        "\n",
        "* Restrição 1: A produção dos relógios não pode ultrapassar a disponibilidade semanal de cada sócio, ou seja, teremos 3 restrições.\n",
        "\\begin{alignat}{2}\n",
        "6x + 4y \\le 40 && \\quad (\\text{João}) \\\\\n",
        "8x + 4y \\le 40 && \\quad (\\text{Ana}) \\\\\n",
        "3x + 3y \\le 20 && \\quad (\\text{Lydia})\n",
        "\\end{alignat}\n"
      ],
      "metadata": {
        "id": "FzYZPd2JO8X1"
      }
    },
    {
      "cell_type": "markdown",
      "source": [
        "### Modelo\n",
        "\n",
        "\\begin{equation}\n",
        "max f(x, y) = 300x + 200y\n",
        "\\end{equation}\n",
        "\n",
        "sujeito a:\n",
        "\n",
        "\\begin{alignat}{2}\n",
        "6x + 4y \\le 40 && \\qquad \\\\\n",
        "8x + 4y \\le 40 && \\qquad \\\\\n",
        "3x + 3y \\le 20 && \\qquad \\\\\n",
        "x \\ge, y \\ge 0 && \\qquad\n",
        "\\end{alignat}"
      ],
      "metadata": {
        "id": "_v4VN3WiPChs"
      }
    },
    {
      "cell_type": "markdown",
      "source": [
        "### Instalação da biblioteca Gurobi"
      ],
      "metadata": {
        "id": "u2HCq-RyPakp"
      }
    },
    {
      "cell_type": "code",
      "source": [
        "!pip install gurobipy"
      ],
      "metadata": {
        "id": "LIV6rHPkPfCf",
        "colab": {
          "base_uri": "https://localhost:8080/"
        },
        "outputId": "6cdbcd10-0e10-4958-b92c-b31ede4d25f8"
      },
      "execution_count": null,
      "outputs": [
        {
          "output_type": "stream",
          "name": "stdout",
          "text": [
            "Collecting gurobipy\n",
            "  Downloading gurobipy-12.0.0-cp310-cp310-manylinux2014_x86_64.manylinux_2_17_x86_64.whl.metadata (15 kB)\n",
            "Downloading gurobipy-12.0.0-cp310-cp310-manylinux2014_x86_64.manylinux_2_17_x86_64.whl (14.4 MB)\n",
            "\u001b[2K   \u001b[90m━━━━━━━━━━━━━━━━━━━━━━━━━━━━━━━━━━━━━━━━\u001b[0m \u001b[32m14.4/14.4 MB\u001b[0m \u001b[31m25.9 MB/s\u001b[0m eta \u001b[36m0:00:00\u001b[0m\n",
            "\u001b[?25hInstalling collected packages: gurobipy\n",
            "Successfully installed gurobipy-12.0.0\n"
          ]
        }
      ]
    },
    {
      "cell_type": "markdown",
      "source": [
        "### Declaração do objeto que representa o modelo matemático"
      ],
      "metadata": {
        "id": "8j3QIyh1Pd2F"
      }
    },
    {
      "cell_type": "code",
      "source": [
        "from gurobipy import Model, GRB\n",
        "\n",
        "modelo = Model(\"relogios\")"
      ],
      "metadata": {
        "id": "5GoED-D_PivS"
      },
      "execution_count": null,
      "outputs": []
    },
    {
      "cell_type": "markdown",
      "source": [
        "### Variáveis de decisão"
      ],
      "metadata": {
        "id": "1ewrABiCPkeQ"
      }
    },
    {
      "cell_type": "code",
      "source": [
        "relogio_pedestal_var = modelo.addVar(name=\"relogio_pedestal\", vtype=GRB.CONTINUOUS, lb=0)\n",
        "relogio_parede_var = modelo.addVar(name=\"relogio_parede\", vtype=GRB.CONTINUOUS, lb=0)"
      ],
      "metadata": {
        "id": "_Yy_Q25TPlMl"
      },
      "execution_count": null,
      "outputs": []
    },
    {
      "cell_type": "markdown",
      "source": [
        "### Função objetivo"
      ],
      "metadata": {
        "id": "PY9ZJYvmPlgd"
      }
    },
    {
      "cell_type": "code",
      "source": [
        "modelo.setObjective(300 * relogio_pedestal_var + 200 * relogio_parede_var, GRB.MAXIMIZE)"
      ],
      "metadata": {
        "id": "jGsOxI5VPnXR"
      },
      "execution_count": null,
      "outputs": []
    },
    {
      "cell_type": "markdown",
      "source": [
        "### Restrições"
      ],
      "metadata": {
        "id": "Bs7wH_YrPnh1"
      }
    },
    {
      "cell_type": "code",
      "source": [
        "modelo.addConstr(6 * relogio_pedestal_var + 4 * relogio_parede_var <= 40, \"restricao_joao\")\n",
        "modelo.addConstr(8 * relogio_pedestal_var + 4 * relogio_parede_var <= 40, \"restricao_ana\")\n",
        "modelo.addConstr(3 * relogio_pedestal_var + 3 * relogio_parede_var <= 20, \"restricao_lydia\")"
      ],
      "metadata": {
        "id": "h6yQS3JPPqHL",
        "colab": {
          "base_uri": "https://localhost:8080/"
        },
        "outputId": "b5659841-1348-4a75-85a9-7afa9d43c1c5"
      },
      "execution_count": null,
      "outputs": [
        {
          "output_type": "execute_result",
          "data": {
            "text/plain": [
              "<gurobi.Constr *Awaiting Model Update*>"
            ]
          },
          "metadata": {},
          "execution_count": 127
        }
      ]
    },
    {
      "cell_type": "markdown",
      "source": [
        "### Resolvendo o problema"
      ],
      "metadata": {
        "id": "AkyHXfHkPqTh"
      }
    },
    {
      "cell_type": "code",
      "source": [
        "modelo.optimize()"
      ],
      "metadata": {
        "id": "Yu5IpUX5PsqH",
        "colab": {
          "base_uri": "https://localhost:8080/"
        },
        "outputId": "7c200afb-30c7-4a55-a42c-2c046fe93574"
      },
      "execution_count": null,
      "outputs": [
        {
          "output_type": "stream",
          "name": "stdout",
          "text": [
            "Gurobi Optimizer version 12.0.0 build v12.0.0rc1 (linux64 - \"Ubuntu 22.04.3 LTS\")\n",
            "\n",
            "CPU model: Intel(R) Xeon(R) CPU @ 2.20GHz, instruction set [SSE2|AVX|AVX2]\n",
            "Thread count: 1 physical cores, 2 logical processors, using up to 2 threads\n",
            "\n",
            "Optimize a model with 3 rows, 2 columns and 6 nonzeros\n",
            "Model fingerprint: 0x6103ff60\n",
            "Coefficient statistics:\n",
            "  Matrix range     [3e+00, 8e+00]\n",
            "  Objective range  [2e+02, 3e+02]\n",
            "  Bounds range     [0e+00, 0e+00]\n",
            "  RHS range        [2e+01, 4e+01]\n",
            "Presolve time: 0.01s\n",
            "Presolved: 3 rows, 2 columns, 6 nonzeros\n",
            "\n",
            "Iteration    Objective       Primal Inf.    Dual Inf.      Time\n",
            "       0    5.0000000e+32   4.250000e+30   5.000000e+02      0s\n",
            "       2    1.6666667e+03   0.000000e+00   0.000000e+00      0s\n",
            "\n",
            "Solved in 2 iterations and 0.02 seconds (0.00 work units)\n",
            "Optimal objective  1.666666667e+03\n"
          ]
        }
      ]
    },
    {
      "cell_type": "markdown",
      "source": [
        "### Imprimindo as soluções do problema"
      ],
      "metadata": {
        "id": "84TEBmrNPuyn"
      }
    },
    {
      "cell_type": "code",
      "source": [
        "if(modelo.status == GRB.OPTIMAL):\n",
        "  print(f\"Relógios de pedestal: {relogio_pedestal_var.X}\")\n",
        "  print(f\"Relógios de parede: {relogio_parede_var.X}\")\n",
        "  print(f\"Valor ótimo: {modelo.objVal}\")"
      ],
      "metadata": {
        "id": "NkUJLNprPvp0",
        "colab": {
          "base_uri": "https://localhost:8080/"
        },
        "outputId": "43c955fb-2635-4a41-f660-34868d7e020a"
      },
      "execution_count": null,
      "outputs": [
        {
          "output_type": "stream",
          "name": "stdout",
          "text": [
            "Relógios de pedestal: 3.333333333333333\n",
            "Relógios de parede: 3.3333333333333335\n",
            "Valor ótimo: 1666.6666666666665\n"
          ]
        }
      ]
    },
    {
      "cell_type": "markdown",
      "source": [
        "## 2) Análise de Sensibilidade"
      ],
      "metadata": {
        "id": "OiniRUNcP7A7"
      }
    },
    {
      "cell_type": "code",
      "source": [
        "print(\"\\nIntervalos de Custos (Vetor de Custos):\")\n",
        "for variavel in modelo.getVars():\n",
        "  print(f\"Variável {variavel.VarName}:\")\n",
        "  print(f\"  lower bound do custo (SAObjLow): {variavel.SAObjLow}\")\n",
        "  print(f\"  upper bound do custo (SAObjUp): {variavel.SAObjUp}\")\n",
        "\n",
        "print(\"\\nIntervalos de Recursos (Vetor de Recursos):\")\n",
        "for restricao in modelo.getConstrs():\n",
        "  print(f\"Restrição {restricao.ConstrName}:\")\n",
        "  print(f\"  lower bound do recurso (SARHSLow): {restricao.SARHSLow}\")\n",
        "  print(f\"  upper bound do recurso (SARHSUp): {restricao.SARHSUp}\")"
      ],
      "metadata": {
        "id": "twVkDnSwQLmm",
        "colab": {
          "base_uri": "https://localhost:8080/"
        },
        "outputId": "b1709718-8245-40bd-eda7-9a4bc368c4df"
      },
      "execution_count": null,
      "outputs": [
        {
          "output_type": "stream",
          "name": "stdout",
          "text": [
            "\n",
            "Intervalos de Custos (Vetor de Custos):\n",
            "Variável relogio_pedestal:\n",
            "  lower bound do custo (SAObjLow): 200.0\n",
            "  upper bound do custo (SAObjUp): 400.0\n",
            "Variável relogio_parede:\n",
            "  lower bound do custo (SAObjLow): 150.0\n",
            "  upper bound do custo (SAObjUp): 300.0\n",
            "\n",
            "Intervalos de Recursos (Vetor de Recursos):\n",
            "Restrição restricao_joao:\n",
            "  lower bound do recurso (SARHSLow): 33.333333333333336\n",
            "  upper bound do recurso (SARHSUp): inf\n",
            "Restrição restricao_ana:\n",
            "  lower bound do recurso (SARHSLow): 26.666666666666668\n",
            "  upper bound do recurso (SARHSUp): 53.33333333333333\n",
            "Restrição restricao_lydia:\n",
            "  lower bound do recurso (SARHSLow): 15.0\n",
            "  upper bound do recurso (SARHSUp): 30.0\n"
          ]
        }
      ]
    },
    {
      "cell_type": "markdown",
      "source": [
        "### Vetor de Custos\n",
        "\n",
        "Em relação ao relógio de pedestal:\n",
        "* Se seu lucro for $\\lt 200$, então ele sairá da base, ou seja, somente serão produzidos os relógios de parede;\n",
        "* Se for $\\gt 400$, então somente ele será produzido, ou seja, não serão produzidos relógios de parede.\n",
        "\n",
        "Em relação ao relógio de parede, idem lógica:\n",
        "* Se seu lucro for $\\lt 150$, então sairá da base;\n",
        "* Se for $\\gt 350$, então somente ele será produzido.\n"
      ],
      "metadata": {
        "id": "aYyo9_Zeje01"
      }
    },
    {
      "cell_type": "markdown",
      "source": [
        "### Vetor de Recursos\n",
        "\n",
        "Em relação ao João:\n",
        "* Se a sua disponiblidade de trabalho alterar para menos que 33,3 horas, então algum elemento da solução básica se tornará negativo, implicando uma não factibilidade ao problema;\n",
        "* E não importa o quanto trabalhe a mais, a solução ótima sempre será a mesma.\n",
        "\n",
        "Em relação à Ana, idem lógica:\n",
        "* Se sua disponibilidade de trabalho alterar para menos que 26,6 horas ou mais que 53,3 horas, então a solução ótima original não será mais válida (algum elemento se torna negativo) e o PL deve ser resolvido novamente.\n",
        "\n",
        "Em relação à Lydia, idem lógica."
      ],
      "metadata": {
        "id": "Pbnlg3OfQMVd"
      }
    },
    {
      "cell_type": "markdown",
      "source": [
        "## 3) Qual sócio irá aumentar seu número máximo de horas disponíveis por semana?\n",
        "\n",
        "A escolha se baseia naquele(a) sócio(a) que aumentaria mais o lucro total.\n",
        "\n",
        "Tomando como base o resultado da análise de sensibilidade, sabe-se que ao João trabalhar mais não muda a solução ótima, logo ela não é um ponto da restrição de João, então escolheremos Ana ou Lydia (retas onde o ponto da solução ótima intercepta).\n",
        "\n",
        "Ana trabalha 40 horas e seu limite superior é 53,3 horas, ou seja, um difereça de 13,3 horas. Enquanto Lydia trabalha 20 horas e seu limite superior é 30 horas, logo uma diferença de 10 horas. Considerando que o aumento ligeiro seria $1/3$ da diferença, então Ana aumentaria 4,43 horas e Lydia 3,33 horas.\n",
        "\n",
        "Perceba que se a nova disponibilidade de Ana for 44,43 horas ou de Lydia for 23,33 horas, isso na realidade indica que o valor da função objetivo será o mesmo, pelo fato de que a solução ótima pertence às restrições de Ana e Lydia, ou seja, o \"aumento ligeiro\" é proporcional em $x$ e $y$.\n",
        "\n",
        "Logicamente, Lydia deveria aumentar ligeiramente sua disponibilidade de trabalho, pois é uma diferença menor, além disso (pensando grosseiramente em um cenário realístico) faz mais sentido aumentar a carga horária de uma pessoa que trabalha 20 horas do que uma de 40 horas.\n",
        "\n"
      ],
      "metadata": {
        "id": "5r78l1iUQyj3"
      }
    },
    {
      "cell_type": "markdown",
      "source": [
        "## 4) Existe alguma variável dual = 0? O que isso significa?\n",
        "\n",
        "As variáveis duais estão relacionadas às restrições do problema. Pela análise de sensibilidade e pela resposta da pergunta (3) foi indicado que a restrição de João pode tender à mais infinito, ou seja, ele não utiliza toda a sua capacidade de horas para a produção dos relógios; matematicamente, isso indica que a restrição não está sendo utilizada (não está ativa). Portanto, mesmo não calculando podemos dizer que a variável dual de João é zero, pelo fato de não afetar, superiormente, a solução ótima."
      ],
      "metadata": {
        "id": "59VJDSdgRBMZ"
      }
    }
  ]
}