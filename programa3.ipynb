{
  "nbformat": 4,
  "nbformat_minor": 0,
  "metadata": {
    "colab": {
      "provenance": []
    },
    "kernelspec": {
      "name": "python3",
      "display_name": "Python 3"
    },
    "language_info": {
      "name": "python"
    }
  },
  "cells": [
    {
      "cell_type": "markdown",
      "source": [
        "# GCC118 - Programação Matemática\n",
        "## Universidade Federal de Lavras\n",
        "### Instituto de Ciências Exatas e Tecnológicas\n",
        "#### Profa. Andreza C. Beezão Moreira (DMM/UFLA)\n",
        "#### Prof. Mayron César O. Moreira (DCC/UFLA)\n",
        "#### Aluno: Bruno Crespo Ferreira"
      ],
      "metadata": {
        "id": "Hk_0rxrIK-Mj"
      }
    },
    {
      "cell_type": "markdown",
      "source": [
        "## Problema\n",
        "\n",
        "Suponha que temos uma tabela de nutrientes de diferentes tipos de alimentos. Sabendo o valor diário de referência (VDR) de cada nutriente e o preço de cada unidade de alimento, qual é a dieta ótima que contém pelo menos o valor diário de referência e seja de menor custo?\n",
        "\n",
        "**Observação**: embora o problema possa ser resolvido com otimização inteira, optou-se por manter as variáveis contínuas.\n"
      ],
      "metadata": {
        "id": "nim3VvIpK_QB"
      }
    },
    {
      "cell_type": "markdown",
      "source": [
        "## 1) Modelagem Matemática e Solução Ótima\n",
        "\n",
        "Para esta modelagem, considere $m$ nutrientes e $n$ alimentos. Defina $a_{ij}$ a quantidade do nutriente $i$ no alimento $j$, e $r_{i}$ o valor diário mínimo de referência do nutriente $i$. Adicionalmente, seja $c_{j}$ o preço do alimento $j$.\n",
        "\n",
        "Sua implementação do modelo de programação linear, utilizando o *gurobipy*, deve estabelecer as quantidades (em gramas) de cada alimento $j$ na dieta. Como inputs, utilizaremos dados do McDonalds, já disponíveis no Campus Virtual.\n",
        "\n",
        "Os valores dos nutrientes são em % do VDR, por isso podemos usar simplesmente $r_{i} = 100\\%$. As colunas que contém um \"NA\" indicam que o valor \"default\" é usado. Logo, se \"NA\" aparece em um parâmetro que reflete um limite inferior, deve-se adotar o valor zero (0) como \"default\". Caso \"NA\" apareça em parâmetros de limite superior, então o valor \"default\" será um inteiro suficientemente grande (teoricamente: ∞).\n",
        "\n",
        "**Observação**: Embora o enunciado afirme que os valores dos nutrientes são em %, a implementação considera a interpretação de que o VDR está informado em gramas (essa diferença não muda o resultado, somente o expande para considerar utilizar o VDR máximo)."
      ],
      "metadata": {
        "id": "ozXlu1BHOKwl"
      }
    },
    {
      "cell_type": "markdown",
      "source": [
        "### Parâmetros\n",
        "\n",
        "* $m$ nutrientes;\n",
        "* $n$ alimentos;\n",
        "* $a_{ij}$: quantidade do nutriente $i$ no alimento $j$;\n",
        "* $r_{i}$: VDR mínimo do nutriente $i$;\n",
        "* $s_{i}$: VDR máximo do nutriente $i$;\n",
        "* $c_{j}$: preço do alimento $j$;\n",
        "* $f_{min, j}$: limite inferior de compra do alimento $j$;\n",
        "* $f_{max, j}$: limite superior de compra do alimento $j$;\n",
        "* $veg_{j}$: o alimento $j$ é vegetariano (1) ou não (0).\n"
      ],
      "metadata": {
        "id": "dDEHhz28OnKz"
      }
    },
    {
      "cell_type": "markdown",
      "source": [
        "### Variáveis\n",
        "\n",
        "* $x_{j}$: quantidade do alimento $j$ em gramas."
      ],
      "metadata": {
        "id": "BDYC_Y_WOoTE"
      }
    },
    {
      "cell_type": "markdown",
      "source": [
        "### Função Objetivo\n",
        "\n",
        "Consiste em **minimizar** o custo total dos alimentos da dieta.\n",
        "\\begin{equation}\n",
        "\\sum_{j}^n c_{j}x_{j}\n",
        "\\end{equation}"
      ],
      "metadata": {
        "id": "wnivV0RoOs4X"
      }
    },
    {
      "cell_type": "markdown",
      "source": [
        "### Restrições\n",
        "\n",
        "* Restrição 1: A dieta ótima deve conter, pelo menos, o VDR mínimo ($r_{i}$) de cada nutriente.\n",
        "\\begin{equation}\n",
        "\\sum_{j}^n a_{ji}x_{j} \\ge r_{i}, \\quad \\forall i \\in \\{1,2,...,m\\}.\n",
        "\\end{equation}\n",
        "\n",
        "* Restrição 2: A dieta ótima não pode ultrapassar o VDR máximo ($s_{i}$) de cada nutriente.\n",
        "\\begin{equation}\n",
        "\\sum_{j}^n a_{ji}x_{j} \\le s_{i}, \\quad \\forall i \\in \\{1,2,...,m\\}.\n",
        "\\end{equation}\n",
        "\n",
        "* Restrição 3: A compra do alimento $j$ deve estar entre os limites inferiores ($f_{min,j}$) e superiores ($f_{max,j}$) de compra.\n",
        "\\begin{equation}\n",
        "f_{min,j} \\le x_{j} \\le f_{max,j} \\quad \\forall j \\in \\{1,2,...,n\\}\n",
        "\\end{equation}\n"
      ],
      "metadata": {
        "id": "FzYZPd2JO8X1"
      }
    },
    {
      "cell_type": "markdown",
      "source": [
        "### Modelo\n",
        "\n",
        "\\begin{equation}\n",
        "\\sum_{j}^n c_{j}x_{j}\n",
        "\\end{equation}\n",
        "\n",
        "sujeito a:\n",
        "\n",
        "\\begin{alignat}{2}\n",
        "\\sum_{j}^n a_{ji}x_{j} \\ge r_{i}, \\quad \\forall i \\in \\{1,2,...,m\\}. \\\\\n",
        "\\sum_{j}^n a_{ji}x_{j} \\le s_{i}, \\quad \\forall i \\in \\{1,2,...,m\\}. \\\\\n",
        "x_{j} \\ge f_{min,j} \\quad \\forall j \\in \\{1,2,...,n\\} \\\\\n",
        "x_{j} \\le f_{max,j} \\quad \\forall j \\in \\{1,2,...,n\\}\n",
        "\\end{alignat}\n",
        "\n",
        "Considerando que $f_{min,j}$ e $f_{max,j}$ sempre são não negativos."
      ],
      "metadata": {
        "id": "_v4VN3WiPChs"
      }
    },
    {
      "cell_type": "markdown",
      "source": [
        "### Instalação da biblioteca Gurobi"
      ],
      "metadata": {
        "id": "u2HCq-RyPakp"
      }
    },
    {
      "cell_type": "code",
      "source": [
        "!pip install gurobipy"
      ],
      "metadata": {
        "id": "LIV6rHPkPfCf",
        "colab": {
          "base_uri": "https://localhost:8080/"
        },
        "outputId": "8e895ef3-86bc-4522-d26e-95e3d0c1e3fd"
      },
      "execution_count": null,
      "outputs": [
        {
          "output_type": "stream",
          "name": "stdout",
          "text": [
            "Requirement already satisfied: gurobipy in /usr/local/lib/python3.10/dist-packages (12.0.0)\n"
          ]
        }
      ]
    },
    {
      "cell_type": "markdown",
      "source": [
        "### Declaração do objeto que representa o modelo matemático"
      ],
      "metadata": {
        "id": "8j3QIyh1Pd2F"
      }
    },
    {
      "cell_type": "code",
      "source": [
        "from gurobipy import Model, GRB, quicksum\n",
        "import pandas as pd\n",
        "import numpy as np\n",
        "import re\n",
        "import os\n",
        "\n",
        "modelo = Model(\"MacDonalds_Dieta\")"
      ],
      "metadata": {
        "id": "5GoED-D_PivS",
        "colab": {
          "base_uri": "https://localhost:8080/"
        },
        "outputId": "07269dfe-3e80-41bf-9f25-7e6878566863"
      },
      "execution_count": null,
      "outputs": [
        {
          "output_type": "stream",
          "name": "stdout",
          "text": [
            "Restricted license - for non-production use only - expires 2026-11-23\n"
          ]
        }
      ]
    },
    {
      "cell_type": "markdown",
      "source": [
        "### Leitura e formatação dos arquivos\n",
        "\n",
        "**Observação**: é de responsabilidade do leitor inserir os arquivos de dados para a análise, e se necessário, alterar o diretorio e/ou nomes dos arquivos nos códigos."
      ],
      "metadata": {
        "id": "MNmLtt4Kssa7"
      }
    },
    {
      "cell_type": "code",
      "source": [
        "# Função que substitui as tabulações (\\t) por espaços em branco dentro de strings entre aspas.\n",
        "def substituir_tab_entre_aspas(match):\n",
        "  return match.group(0).replace('\\t', ' ')"
      ],
      "metadata": {
        "id": "Qwme5kyR9W4R"
      },
      "execution_count": null,
      "outputs": []
    },
    {
      "cell_type": "code",
      "source": [
        "# Função que arruma a formatação de um arquivo, substituindo espaços por tabulações e ajustando múltiplas tabulações.\n",
        "def arrumar_formatacao(diretorio, nome_arquivo):\n",
        "  caminho_arquivo = os.path.join(diretorio, nome_arquivo)\n",
        "  with open(caminho_arquivo, 'r', encoding='utf-8') as f:\n",
        "    conteudo = f.read()\n",
        "\n",
        "  # Substitui todos os espaços por tabulações (\\t).\n",
        "  conteudo_limpo = re.sub(r' ', '\\t', conteudo)\n",
        "  # Substitui múltiplas tabulações consecutivas por uma única tabulação.\n",
        "  conteudo_limpo = re.sub(r'\\t+', '\\t', conteudo_limpo)\n",
        "  conteudo_limpo = re.sub(r'\"[^\"]*\"', substituir_tab_entre_aspas, conteudo_limpo)\n",
        "\n",
        "  novo_arquivo = os.path.join(diretorio, f\"formatado_{nome_arquivo}\")\n",
        "  with open(novo_arquivo, 'w', encoding='utf-8') as f:\n",
        "    f.write(conteudo_limpo)\n",
        "  return novo_arquivo"
      ],
      "metadata": {
        "id": "_pIXGCn-v1Yh"
      },
      "execution_count": null,
      "outputs": []
    },
    {
      "cell_type": "code",
      "source": [
        "nutrientes = pd.read_csv(arrumar_formatacao(\"/content/\", \"McDonalds-nutr.wsv\"), sep='\\t', skiprows=1)\n",
        "nutrientes.columns = ['Nutriente', 'VDR_min', 'VDR_max']\n",
        "\n",
        "alimentos = pd.read_csv(arrumar_formatacao(\"/content/\", \"McDonalds-food.wsv\"), sep=\"\\t\", skiprows=2)\n",
        "alimentos.columns = ['Alimento', 'Custo', 'Compra_min', 'Compra_max', 'Veg']\n",
        "\n",
        "quantidades = pd.read_csv(arrumar_formatacao(\"/content/\", \"McDonalds-amnt.wsv\"), sep=\"\\t\", skiprows=1)\n",
        "quantidades.rename(columns={quantidades.columns[0]: 'Alimento'}, inplace=True)"
      ],
      "metadata": {
        "collapsed": true,
        "id": "L1ZgWHNmsxVD"
      },
      "execution_count": null,
      "outputs": []
    },
    {
      "cell_type": "markdown",
      "source": [
        "#### Substituindo NaN para valores default"
      ],
      "metadata": {
        "id": "AAKLEb76AIqG"
      }
    },
    {
      "cell_type": "code",
      "source": [
        "nutrientes['VDR_min'] = nutrientes['VDR_min'].fillna(0).astype(float)\n",
        "nutrientes['VDR_max'] = nutrientes['VDR_max'].fillna(np.inf).astype(float)\n",
        "\n",
        "alimentos['Compra_min'] = alimentos['Compra_min'].fillna(0).astype(float)\n",
        "alimentos['Compra_max'] = alimentos['Compra_max'].fillna(np.inf).astype(float)"
      ],
      "metadata": {
        "id": "BQ7494nKAEFy"
      },
      "execution_count": null,
      "outputs": []
    },
    {
      "cell_type": "markdown",
      "source": [
        "### Obtendo os parâmetros"
      ],
      "metadata": {
        "id": "HcpX5FqICVYA"
      }
    },
    {
      "cell_type": "code",
      "source": [
        "alimentos_nomes = quantidades['Alimento'].values\n",
        "coeficientes_colunas = quantidades.columns[1:]\n",
        "coeficientes = quantidades[coeficientes_colunas].values\n",
        "\n",
        "custos = alimentos['Custo'].values\n",
        "lim_inf_compra = alimentos['Compra_min'].values\n",
        "lim_sup_compra = alimentos['Compra_max'].values\n",
        "eh_vegano = alimentos['Veg'].values\n",
        "\n",
        "nutrientes_nomes = nutrientes['Nutriente'].values\n",
        "vdr_min = nutrientes['VDR_min'].values\n",
        "vdr_max = nutrientes['VDR_max'].values"
      ],
      "metadata": {
        "id": "4iYmFxmzCYwj"
      },
      "execution_count": null,
      "outputs": []
    },
    {
      "cell_type": "markdown",
      "source": [
        "### Variável de decisão"
      ],
      "metadata": {
        "id": "1ewrABiCPkeQ"
      }
    },
    {
      "cell_type": "code",
      "source": [
        "x = {j: modelo.addVar(name=f\"{alimentos_nomes[j]}\", vtype=GRB.CONTINUOUS, lb=lim_inf_compra[j], ub=lim_sup_compra[j]) for j in range(len(alimentos_nomes))}"
      ],
      "metadata": {
        "id": "_Yy_Q25TPlMl"
      },
      "execution_count": null,
      "outputs": []
    },
    {
      "cell_type": "markdown",
      "source": [
        "### Função objetivo"
      ],
      "metadata": {
        "id": "PY9ZJYvmPlgd"
      }
    },
    {
      "cell_type": "code",
      "source": [
        "modelo.setObjective(quicksum(custos[j] * x[j] for j in range(len(alimentos_nomes))), GRB.MINIMIZE)"
      ],
      "metadata": {
        "id": "jGsOxI5VPnXR"
      },
      "execution_count": null,
      "outputs": []
    },
    {
      "cell_type": "markdown",
      "source": [
        "### Restrições"
      ],
      "metadata": {
        "id": "Bs7wH_YrPnh1"
      }
    },
    {
      "cell_type": "code",
      "source": [
        "for i, nutriente in enumerate(nutrientes_nomes):\n",
        "  modelo.addConstr(quicksum(coeficientes[j][i] * x[j] for j in range(len(alimentos_nomes))) >= vdr_min[i], f\"Min_{nutriente}\")\n",
        "  if vdr_max[i] < float('inf'): # Apenas adiciona a restrição de máximo se existir (diferente de infinito)\n",
        "    modelo.addConstr(quicksum(coeficientes[j][i] * x[j] for j in range(len(alimentos_nomes))) <= vdr_max[i], f\"Max_{nutriente}\")"
      ],
      "metadata": {
        "id": "h6yQS3JPPqHL"
      },
      "execution_count": null,
      "outputs": []
    },
    {
      "cell_type": "markdown",
      "source": [
        "### Resolvendo o problema"
      ],
      "metadata": {
        "id": "AkyHXfHkPqTh"
      }
    },
    {
      "cell_type": "code",
      "source": [
        "modelo.optimize()"
      ],
      "metadata": {
        "id": "Yu5IpUX5PsqH",
        "colab": {
          "base_uri": "https://localhost:8080/"
        },
        "outputId": "1b212985-ec8f-4bc7-f4a7-dbdecb3fd6cf"
      },
      "execution_count": null,
      "outputs": [
        {
          "output_type": "stream",
          "name": "stdout",
          "text": [
            "Gurobi Optimizer version 12.0.0 build v12.0.0rc1 (linux64 - \"Ubuntu 22.04.3 LTS\")\n",
            "\n",
            "CPU model: Intel(R) Xeon(R) CPU @ 2.20GHz, instruction set [SSE2|AVX|AVX2]\n",
            "Thread count: 1 physical cores, 2 logical processors, using up to 2 threads\n",
            "\n",
            "Optimize a model with 10 rows, 84 columns and 634 nonzeros\n",
            "Model fingerprint: 0x8971e040\n",
            "Coefficient statistics:\n",
            "  Matrix range     [1e+00, 1e+02]\n",
            "  Objective range  [1e+00, 1e+01]\n",
            "  Bounds range     [0e+00, 0e+00]\n",
            "  RHS range        [1e+02, 1e+02]\n",
            "Presolve removed 0 rows and 16 columns\n",
            "Presolve time: 0.01s\n",
            "Presolved: 10 rows, 68 columns, 580 nonzeros\n",
            "\n",
            "Iteration    Objective       Primal Inf.    Dual Inf.      Time\n",
            "       0    0.0000000e+00   7.500000e+01   0.000000e+00      0s\n",
            "       3    2.4311927e+01   0.000000e+00   0.000000e+00      0s\n",
            "\n",
            "Solved in 3 iterations and 0.02 seconds (0.00 work units)\n",
            "Optimal objective  2.431192661e+01\n"
          ]
        }
      ]
    },
    {
      "cell_type": "markdown",
      "source": [
        "### Imprimindo as soluções do problema"
      ],
      "metadata": {
        "id": "84TEBmrNPuyn"
      }
    },
    {
      "cell_type": "code",
      "source": [
        "if modelo.status == GRB.OPTIMAL:\n",
        "  print(\"\\nSolução ótima encontrada!\")\n",
        "  for j in range(len(alimentos_nomes)):\n",
        "    if x[j].x > 1e-6:  # Apenas exibe valores significativos\n",
        "      print(f\"{x[j].varName}: {x[j].x:.2f} unidades\")\n",
        "  print(f\"Custo total: R$ {modelo.objVal:.2f}\")\n",
        "else:\n",
        "    print(\"Nenhuma solução ótima encontrada.\")"
      ],
      "metadata": {
        "id": "NkUJLNprPvp0",
        "colab": {
          "base_uri": "https://localhost:8080/"
        },
        "outputId": "7e51f2b4-8978-43ba-bd57-a87c93d5c6ff"
      },
      "execution_count": null,
      "outputs": [
        {
          "output_type": "stream",
          "name": "stdout",
          "text": [
            "\n",
            "Solução ótima encontrada!\n",
            "McDuplo: 5.05 unidades\n",
            "Casquinha Baunilha: 2.29 unidades\n",
            "Maçã: 3.21 unidades\n",
            "Custo total: R$ 24.31\n"
          ]
        }
      ]
    },
    {
      "cell_type": "markdown",
      "source": [
        "## 2) Análise de Sensibilidade"
      ],
      "metadata": {
        "id": "OiniRUNcP7A7"
      }
    },
    {
      "cell_type": "code",
      "source": [
        "print(\"\\nIntervalos de Custos (Vetor de Custos):\")\n",
        "for variavel in modelo.getVars():\n",
        "  if variavel.x > 1e-6:  # Apenas exibe valores significativos\n",
        "    print(f\"Variável {variavel.VarName}:\")\n",
        "    print(f\"  lower bound do custo (SAObjLow): {variavel.SAObjLow}\")\n",
        "    print(f\"  upper bound do custo (SAObjUp): {variavel.SAObjUp}\")\n",
        "\n",
        "print(\"\\nIntervalos de Recursos (Vetor de Recursos):\")\n",
        "for restricao in modelo.getConstrs():\n",
        "  print(f\"Restrição {restricao.ConstrName}:\")\n",
        "  print(f\"  lower bound do recurso (SARHSLow): {restricao.SARHSLow}\")\n",
        "  print(f\"  upper bound do recurso (SARHSUp): {restricao.SARHSUp}\")"
      ],
      "metadata": {
        "id": "twVkDnSwQLmm",
        "colab": {
          "base_uri": "https://localhost:8080/"
        },
        "outputId": "df9254b3-5de4-42bb-fc2e-ab071e706c02"
      },
      "execution_count": null,
      "outputs": [
        {
          "output_type": "stream",
          "name": "stdout",
          "text": [
            "\n",
            "Intervalos de Custos (Vetor de Custos):\n",
            "Variável McDuplo:\n",
            "  lower bound do custo (SAObjLow): 2.802995391705069\n",
            "  upper bound do custo (SAObjUp): 4.239198064293121\n",
            "Variável Casquinha Baunilha:\n",
            "  lower bound do custo (SAObjLow): 0.7619047619047619\n",
            "  upper bound do custo (SAObjUp): 1.5\n",
            "Variável Maçã:\n",
            "  lower bound do custo (SAObjLow): 0.5064935064935066\n",
            "  upper bound do custo (SAObjUp): 2.303457446808511\n",
            "\n",
            "Intervalos de Recursos (Vetor de Recursos):\n",
            "Restrição Min_Energia:\n",
            "  lower bound do recurso (SARHSLow): -inf\n",
            "  upper bound do recurso (SARHSUp): 136.69724770642202\n",
            "Restrição Min_Carb.:\n",
            "  lower bound do recurso (SARHSLow): 82.1705426356589\n",
            "  upper bound do recurso (SARHSUp): 296.42857142857144\n",
            "Restrição Min_Prot.:\n",
            "  lower bound do recurso (SARHSLow): -inf\n",
            "  upper bound do recurso (SARHSUp): 163.302752293578\n",
            "Restrição Min_G. Total:\n",
            "  lower bound do recurso (SARHSLow): -inf\n",
            "  upper bound do recurso (SARHSUp): 214.67889908256882\n",
            "Restrição Min_G. Sat.:\n",
            "  lower bound do recurso (SARHSLow): -inf\n",
            "  upper bound do recurso (SARHSUp): 286.69724770642205\n",
            "Restrição Min_Colest.:\n",
            "  lower bound do recurso (SARHSLow): 60.18465089440275\n",
            "  upper bound do recurso (SARHSUp): 153.1914893617021\n",
            "Restrição Min_Fibra:\n",
            "  lower bound do recurso (SARHSLow): 54.54545454545455\n",
            "  upper bound do recurso (SARHSUp): 146.2962962962963\n",
            "Restrição Min_Sódio:\n",
            "  lower bound do recurso (SARHSLow): -inf\n",
            "  upper bound do recurso (SARHSUp): 190.8256880733945\n",
            "Restrição Min_Cálcio:\n",
            "  lower bound do recurso (SARHSLow): -inf\n",
            "  upper bound do recurso (SARHSUp): 121.10091743119267\n",
            "Restrição Min_Ferro:\n",
            "  lower bound do recurso (SARHSLow): -inf\n",
            "  upper bound do recurso (SARHSUp): 209.63302752293578\n"
          ]
        }
      ]
    },
    {
      "cell_type": "markdown",
      "source": [
        "### Vetor de Custos\n",
        "\n",
        "Se o custo de alguma variável básica ultrapassar o limite inferior ou superior calculado, então a variável irá sair da base."
      ],
      "metadata": {
        "id": "Pbnlg3OfQMVd"
      }
    },
    {
      "cell_type": "markdown",
      "source": [
        "### Vetor de Recursos\n",
        "\n",
        "Em relação ao limitantes inferiores com infinito, não importa o quanto o VDR mínimo do recurso diminua, a solução ótima sempre será a mesma.\n",
        "\n",
        "Aos demais valores calculados, se algum recurso ultrapassar o limite inferior ou superior do seu VDR mínimo, então alguma variável básica irá se tornar negativa, implicando uma não factibilidade ao problema, logo o PL deve ser resolvido novamente."
      ],
      "metadata": {
        "id": "A356LyKnVOYr"
      }
    },
    {
      "cell_type": "markdown",
      "source": [
        "## 3) Qual a dieta ótima vegetariana?\n",
        "\n",
        "Para descobrir a dieta ótima vegetariana há duas maneiras de obter a nova solução:\n",
        "1. Inserir uma variável binária no modelo para representar se o alimento é vegetariano ou não;\n",
        "2. Remover todos os alimentos marcados como não vegetarianos nas tabelas em si.\n",
        "\n",
        "Será executado a maneira (1)."
      ],
      "metadata": {
        "id": "TWHnuEndVDkz"
      }
    },
    {
      "cell_type": "markdown",
      "source": [
        "### Modificando o modelo\n",
        "\n",
        "\\begin{equation}\n",
        "\\sum_{j}^n c_{j}x_{j}\n",
        "\\end{equation}\n",
        "\n",
        "sujeito a:\n",
        "\n",
        "\\begin{alignat}{2}\n",
        "\\sum_{j}^n a_{ji}x_{j} \\ge r_{i}, \\quad \\forall i \\in \\{1,2,...,m\\}. \\\\\n",
        "\\sum_{j}^n a_{ji}x_{j} \\le s_{i}, \\quad \\forall i \\in \\{1,2,...,m\\}. \\\\\n",
        "x_{j} \\ge f_{min,j} * y_{j} \\quad \\forall j \\in \\{1,2,...,n\\} \\\\\n",
        "x_{j} \\le f_{max,j} * y_{j} \\quad \\forall j \\in \\{1,2,...,n\\}\n",
        "\\end{alignat}\n",
        "\n",
        "Se um alimento não for vegetariano, sua variável binária é forçada a 0, impedindo seu consumo."
      ],
      "metadata": {
        "id": "ngx0Q3XoaA1k"
      }
    },
    {
      "cell_type": "markdown",
      "source": [
        "### Declaração do objeto que representa o modelo matemático"
      ],
      "metadata": {
        "id": "owMJiv3aaExs"
      }
    },
    {
      "cell_type": "code",
      "source": [
        "modelo_veg = Model(\"MacDonalds_Dieta_Vegetariana\")"
      ],
      "metadata": {
        "id": "WPRdY8-vY1VO"
      },
      "execution_count": null,
      "outputs": []
    },
    {
      "cell_type": "markdown",
      "source": [
        "### Variável de decisão"
      ],
      "metadata": {
        "id": "uNKvjoyJf6yu"
      }
    },
    {
      "cell_type": "code",
      "source": [
        "x = {j: modelo_veg.addVar(name=f\"{alimentos_nomes[j]}\", vtype=GRB.CONTINUOUS, lb=lim_inf_compra[j], ub=lim_sup_compra[j]) for j in range(len(alimentos_nomes))}\n",
        "y = {j: modelo_veg.addVar(name=f\"y_{alimentos_nomes[j]}\", vtype=GRB.BINARY) for j in range(len(alimentos_nomes))}"
      ],
      "metadata": {
        "id": "GWPNGUDHf-3L"
      },
      "execution_count": null,
      "outputs": []
    },
    {
      "cell_type": "markdown",
      "source": [
        "### Função objetivo"
      ],
      "metadata": {
        "id": "tKDyypVVgF4e"
      }
    },
    {
      "cell_type": "code",
      "source": [
        "modelo_veg.setObjective(quicksum(custos[j] * x[j] for j in range(len(alimentos_nomes))), GRB.MINIMIZE)"
      ],
      "metadata": {
        "id": "BUuniyThgHyD"
      },
      "execution_count": null,
      "outputs": []
    },
    {
      "cell_type": "markdown",
      "source": [
        "### Restrições"
      ],
      "metadata": {
        "id": "1fDF_kXCgZXN"
      }
    },
    {
      "cell_type": "code",
      "source": [
        "# Restrições nutricionais\n",
        "for i, nutriente in enumerate(nutrientes_nomes):\n",
        "  modelo_veg.addConstr(quicksum(coeficientes[j][i] * x[j] for j in range(len(alimentos_nomes))) >= vdr_min[i], f\"Min_{nutriente}\")\n",
        "  if vdr_max[i] < float('inf'): # Apenas adiciona a restrição de máximo se existir (diferente de infinito)\n",
        "    modelo_veg.addConstr(quicksum(coeficientes[j][i] * x[j] for j in range(len(alimentos_nomes))) <= vdr_max[i], f\"Max_{nutriente}\")\n",
        "\n",
        "# Restrições considerando as variáveis binárias\n",
        "for j in range(len(alimentos_nomes)):\n",
        "  # Se o limitante superior for infinito, define-se uma constante \"grande\" (ninguém gasta mais que 300 reais no MacDonalds, eu acho...)\n",
        "  max_bound = lim_sup_compra[j] if lim_sup_compra[j] < float('inf') else 300\n",
        "  modelo_veg.addConstr(x[j] <= max_bound * y[j], f\"MaxUse_{alimentos_nomes[j]}\")\n",
        "  modelo_veg.addConstr(x[j] >= lim_inf_compra[j] * y[j], f\"MinUse_{alimentos_nomes[j]}\")\n",
        "\n",
        "for j in range(len(alimentos_nomes)):\n",
        "  if eh_vegano[j] == False:\n",
        "    modelo_veg.addConstr(y[j] == 0, f\"NonVeg_{alimentos_nomes[j]}\")"
      ],
      "metadata": {
        "id": "xXzAvdKbgapH"
      },
      "execution_count": null,
      "outputs": []
    },
    {
      "cell_type": "markdown",
      "source": [
        "### Resolvendo o problema"
      ],
      "metadata": {
        "id": "yocSznYIhpUd"
      }
    },
    {
      "cell_type": "code",
      "source": [
        "modelo_veg.optimize()"
      ],
      "metadata": {
        "colab": {
          "base_uri": "https://localhost:8080/"
        },
        "id": "ZiyqxkHXhpq3",
        "outputId": "8a9bed04-bf69-4ab2-bbad-b75f1b0dc314"
      },
      "execution_count": null,
      "outputs": [
        {
          "output_type": "stream",
          "name": "stdout",
          "text": [
            "Gurobi Optimizer version 12.0.0 build v12.0.0rc1 (linux64 - \"Ubuntu 22.04.3 LTS\")\n",
            "\n",
            "CPU model: Intel(R) Xeon(R) CPU @ 2.20GHz, instruction set [SSE2|AVX|AVX2]\n",
            "Thread count: 1 physical cores, 2 logical processors, using up to 2 threads\n",
            "\n",
            "Optimize a model with 195 rows, 168 columns and 903 nonzeros\n",
            "Model fingerprint: 0x34e423f0\n",
            "Variable types: 84 continuous, 84 integer (84 binary)\n",
            "Coefficient statistics:\n",
            "  Matrix range     [1e+00, 3e+02]\n",
            "  Objective range  [1e+00, 1e+01]\n",
            "  Bounds range     [1e+00, 1e+00]\n",
            "  RHS range        [1e+02, 1e+02]\n",
            "Found heuristic solution: objective 146.9122995\n",
            "Presolve removed 185 rows and 131 columns\n",
            "Presolve time: 0.00s\n",
            "Presolved: 10 rows, 37 columns, 317 nonzeros\n",
            "Found heuristic solution: objective 124.0971734\n",
            "Variable types: 37 continuous, 0 integer (0 binary)\n",
            "\n",
            "Root relaxation: objective 3.963415e+01, 4 iterations, 0.00 seconds (0.00 work units)\n",
            "\n",
            "    Nodes    |    Current Node    |     Objective Bounds      |     Work\n",
            " Expl Unexpl |  Obj  Depth IntInf | Incumbent    BestBd   Gap | It/Node Time\n",
            "\n",
            "*    0     0               0      39.6341463   39.63415  0.00%     -    0s\n",
            "\n",
            "Explored 1 nodes (4 simplex iterations) in 0.04 seconds (0.00 work units)\n",
            "Thread count was 2 (of 2 available processors)\n",
            "\n",
            "Solution count 2: 39.6341 146.912 \n",
            "\n",
            "Optimal solution found (tolerance 1.00e-04)\n",
            "Best objective 3.963414634146e+01, best bound 3.963414634146e+01, gap 0.0000%\n"
          ]
        }
      ]
    },
    {
      "cell_type": "markdown",
      "source": [
        "### Imprimindo as soluções do problema"
      ],
      "metadata": {
        "id": "m9apK2Uthu8B"
      }
    },
    {
      "cell_type": "code",
      "source": [
        "if modelo_veg.status == GRB.OPTIMAL:\n",
        "  print(\"\\nSolução ótima encontrada!\")\n",
        "  for j in range(len(alimentos_nomes)):\n",
        "    if x[j].x > 1e-6:  # Apenas exibe valores significativos\n",
        "      print(f\"{x[j].varName}: {x[j].x:.2f} unidades\")\n",
        "  print(f\"Custo total: R$ {modelo_veg.objVal:.2f}\")\n",
        "else:\n",
        "    print(\"Nenhuma solução ótima encontrada.\")"
      ],
      "metadata": {
        "colab": {
          "base_uri": "https://localhost:8080/"
        },
        "id": "YP2OcOTAhvZW",
        "outputId": "668b6e62-6b68-45a6-cddb-8dbb6839d280"
      },
      "execution_count": null,
      "outputs": [
        {
          "output_type": "stream",
          "name": "stdout",
          "text": [
            "\n",
            "Solução ótima encontrada!\n",
            "Molho Salada Ranch: 7.32 unidades\n",
            "Casquinha Baunilha: 13.66 unidades\n",
            "Casquinha Chocolate: 2.20 unidades\n",
            "Maçã: 4.88 unidades\n",
            "Custo total: R$ 39.63\n"
          ]
        }
      ]
    },
    {
      "cell_type": "markdown",
      "source": [
        "## 4) Qual a dieta ótima em que cada alimento é consumido uma única vez?\n",
        "\n",
        "Para realizar essa nova solução, pode-se modificar f_max do arquivo McDonalds-food.wsv para 1.\n",
        "\n",
        "Como o f_min (default) sempre é 0, então cada alimento será consumido uma única vez, por partes ou não será consumido. Por precaução, define-se f_min como 0, caso ele não seja default."
      ],
      "metadata": {
        "id": "wM_Gf6VRVJ9f"
      }
    },
    {
      "cell_type": "markdown",
      "source": [
        "### Modelo\n",
        "\n",
        "\\begin{equation}\n",
        "\\sum_{j}^n c_{j}x_{j}\n",
        "\\end{equation}\n",
        "\n",
        "sujeito a:\n",
        "\n",
        "\\begin{alignat}{2}\n",
        "\\sum_{j}^n a_{ji}x_{j} \\ge r_{i}, \\quad \\forall i \\in \\{1,2,...,m\\}. \\\\\n",
        "\\sum_{j}^n a_{ji}x_{j} \\le s_{i}, \\quad \\forall i \\in \\{1,2,...,m\\}. \\\\\n",
        "x_{j} \\ge f_{min,j} \\quad \\forall j \\in \\{1,2,...,n\\} \\\\\n",
        "x_{j} \\le f_{max,j} \\quad \\forall j \\in \\{1,2,...,n\\}\n",
        "\\end{alignat}\n",
        "\n",
        "$f_{min,j}$ sempre é 0. \\\\\n",
        "$f_{max,j}$ sempre é 1."
      ],
      "metadata": {
        "id": "RS-h23aXqWRA"
      }
    },
    {
      "cell_type": "markdown",
      "source": [
        "### Declaração do objeto que representa o modelo matemático"
      ],
      "metadata": {
        "id": "m1f9Yunzq6oT"
      }
    },
    {
      "cell_type": "code",
      "source": [
        "modelo_unico = Model(\"MacDonalds_Dieta_Unica\")"
      ],
      "metadata": {
        "id": "LYpXlq8sVLTD"
      },
      "execution_count": null,
      "outputs": []
    },
    {
      "cell_type": "markdown",
      "source": [
        "#### Substituindo valores"
      ],
      "metadata": {
        "id": "-wYR53SarQzI"
      }
    },
    {
      "cell_type": "code",
      "source": [
        "alimentos['Compra_min'] = 0\n",
        "alimentos['Compra_max'] = 1\n",
        "\n",
        "lim_inf_compra = alimentos['Compra_min'].values\n",
        "lim_sup_compra = alimentos['Compra_max'].values"
      ],
      "metadata": {
        "id": "vNKW9JAjrSHT"
      },
      "execution_count": null,
      "outputs": []
    },
    {
      "cell_type": "markdown",
      "source": [
        "### Variável de decisão"
      ],
      "metadata": {
        "id": "3We9ruSurvE0"
      }
    },
    {
      "cell_type": "code",
      "source": [
        "x = {j: modelo_unico.addVar(name=f\"{alimentos_nomes[j]}\", vtype=GRB.CONTINUOUS, lb=lim_inf_compra[j], ub=lim_sup_compra[j]) for j in range(len(alimentos_nomes))}"
      ],
      "metadata": {
        "id": "vVp33oj2rvVg"
      },
      "execution_count": null,
      "outputs": []
    },
    {
      "cell_type": "markdown",
      "source": [
        "### Função objetivo"
      ],
      "metadata": {
        "id": "Q9Z_-RnErw3L"
      }
    },
    {
      "cell_type": "code",
      "source": [
        "modelo_unico.setObjective(quicksum(custos[j] * x[j] for j in range(len(alimentos_nomes))), GRB.MINIMIZE)"
      ],
      "metadata": {
        "id": "CSwFP0gZryVV"
      },
      "execution_count": null,
      "outputs": []
    },
    {
      "cell_type": "markdown",
      "source": [
        "### Restrições"
      ],
      "metadata": {
        "id": "AEPvWxX4rzk_"
      }
    },
    {
      "cell_type": "code",
      "source": [
        "for i, nutriente in enumerate(nutrientes_nomes):\n",
        "  modelo_unico.addConstr(quicksum(coeficientes[j][i] * x[j] for j in range(len(alimentos_nomes))) >= vdr_min[i], f\"Min_{nutriente}\")\n",
        "  if vdr_max[i] < float('inf'): # Apenas adiciona a restrição de máximo se existir (diferente de infinito)\n",
        "    modelo_unico.addConstr(quicksum(coeficientes[j][i] * x[j] for j in range(len(alimentos_nomes))) <= vdr_max[i], f\"Max_{nutriente}\")"
      ],
      "metadata": {
        "id": "yBVNW2qTr1Fz"
      },
      "execution_count": null,
      "outputs": []
    },
    {
      "cell_type": "markdown",
      "source": [
        "### Resolvendo o problema"
      ],
      "metadata": {
        "id": "HrbeTqCesMia"
      }
    },
    {
      "cell_type": "code",
      "source": [
        "modelo_unico.optimize()"
      ],
      "metadata": {
        "colab": {
          "base_uri": "https://localhost:8080/"
        },
        "id": "XOrynJeZsM0v",
        "outputId": "d916f059-73aa-413e-8f9c-8e46baca3d17"
      },
      "execution_count": null,
      "outputs": [
        {
          "output_type": "stream",
          "name": "stdout",
          "text": [
            "Gurobi Optimizer version 12.0.0 build v12.0.0rc1 (linux64 - \"Ubuntu 22.04.3 LTS\")\n",
            "\n",
            "CPU model: Intel(R) Xeon(R) CPU @ 2.20GHz, instruction set [SSE2|AVX|AVX2]\n",
            "Thread count: 1 physical cores, 2 logical processors, using up to 2 threads\n",
            "\n",
            "Optimize a model with 10 rows, 84 columns and 634 nonzeros\n",
            "Model fingerprint: 0xf5f3b527\n",
            "Coefficient statistics:\n",
            "  Matrix range     [1e+00, 1e+02]\n",
            "  Objective range  [1e+00, 1e+01]\n",
            "  Bounds range     [1e+00, 1e+00]\n",
            "  RHS range        [1e+02, 1e+02]\n",
            "Presolve removed 0 rows and 2 columns\n",
            "Presolve time: 0.02s\n",
            "Presolved: 10 rows, 82 columns, 634 nonzeros\n",
            "\n",
            "Iteration    Objective       Primal Inf.    Dual Inf.      Time\n",
            "       0    0.0000000e+00   7.500000e+01   0.000000e+00      0s\n",
            "       6    3.1562785e+01   0.000000e+00   0.000000e+00      0s\n",
            "\n",
            "Solved in 6 iterations and 0.03 seconds (0.00 work units)\n",
            "Optimal objective  3.156278455e+01\n"
          ]
        }
      ]
    },
    {
      "cell_type": "markdown",
      "source": [
        "### Imprimindo as soluções do problema"
      ],
      "metadata": {
        "id": "Xvpu2H8dsUZz"
      }
    },
    {
      "cell_type": "code",
      "source": [
        "if modelo_unico.status == GRB.OPTIMAL:\n",
        "  print(\"\\nSolução ótima encontrada!\")\n",
        "  for j in range(len(alimentos_nomes)):\n",
        "    if x[j].x > 1e-6:  # Apenas exibe valores significativos\n",
        "      print(f\"{x[j].varName}: {x[j].x:.2f} unidades\")\n",
        "  print(f\"Custo total: R$ {modelo_unico.objVal:.2f}\")\n",
        "else:\n",
        "    print(\"Nenhuma solução ótima encontrada.\")"
      ],
      "metadata": {
        "colab": {
          "base_uri": "https://localhost:8080/"
        },
        "id": "k-6VEMaRsU4W",
        "outputId": "002748ec-d07f-4646-f546-e568d55d1f8f"
      },
      "execution_count": null,
      "outputs": [
        {
          "output_type": "stream",
          "name": "stdout",
          "text": [
            "\n",
            "Solução ótima encontrada!\n",
            "Quarterão com Queijo: 1.00 unidades\n",
            "McDuplo: 1.00 unidades\n",
            "Cheeseburger: 1.00 unidades\n",
            "Hamburger: 1.00 unidades\n",
            "McBacon Junior: 1.00 unidades\n",
            "McFritas grande: 1.00 unidades\n",
            "McFritas média: 0.43 unidades\n",
            "Chicken McNuggets (12 unid.): 0.42 unidades\n",
            "Casquinha Baunilha: 0.24 unidades\n",
            "Casquinha Chocolate: 1.00 unidades\n",
            "Maçã: 1.00 unidades\n",
            "Custo total: R$ 31.56\n"
          ]
        }
      ]
    }
  ]
}