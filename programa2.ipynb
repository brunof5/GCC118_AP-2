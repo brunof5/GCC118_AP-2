{
  "nbformat": 4,
  "nbformat_minor": 0,
  "metadata": {
    "colab": {
      "provenance": []
    },
    "kernelspec": {
      "name": "python3",
      "display_name": "Python 3"
    },
    "language_info": {
      "name": "python"
    }
  },
  "cells": [
    {
      "cell_type": "markdown",
      "source": [
        "# GCC118 - Programação Matemática\n",
        "## Universidade Federal de Lavras\n",
        "### Instituto de Ciências Exatas e Tecnológicas\n",
        "#### Profa. Andreza C. Beezão Moreira (DMM/UFLA)\n",
        "#### Prof. Mayron César O. Moreira (DCC/UFLA)\n",
        "#### Aluno: Bruno Crespo Ferreira"
      ],
      "metadata": {
        "id": "Hk_0rxrIK-Mj"
      }
    },
    {
      "cell_type": "markdown",
      "source": [
        "## Problema\n",
        "\n",
        "Uma empresa transporta óleo de uma estação A para uma estação B. Existe uma rota norte e uma rota sul, ambas com uma estação intermediária. Ainda existe uma ligação da estação intermediária sul para estação intermediária norte. A Figura 1 abaixo mostra a situação junto com as capacidades das ligações em barris por dia. Formule um programa linear, utilizando gurobipy, que maximiza os barris por dia transportados de A para B. Faça uma análise de sensibilidade, e discuta o que tal análise reportará.\n"
      ],
      "metadata": {
        "id": "nim3VvIpK_QB"
      }
    },
    {
      "cell_type": "markdown",
      "source": [
        "![grafo.png](data:image/png;base64,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)"
      ],
      "metadata": {
        "id": "R9YQAQ8nSY30"
      }
    },
    {
      "cell_type": "markdown",
      "source": [
        "## 1) Modelagem Matemática e Solução Ótima\n",
        "\n",
        "O PL pode ser modelado como um problema de rede de fluxo."
      ],
      "metadata": {
        "id": "ozXlu1BHOKwl"
      }
    },
    {
      "cell_type": "markdown",
      "source": [
        "### Parâmetros\n",
        "\n",
        "O grafo disponibiliza o número máximo de barris quem podem ser transportados em cada situação por meio de pesos nas arestas direcionais.\n",
        "\n",
        "Portanto, temos as seguintes capacidades máximas:\n",
        "\\begin{alignat}{2}\n",
        "A → Norte: 300 \\ \\text{barris/dia}; \\\\\n",
        "Norte → B: 400 \\ \\text{barris/dia}; \\\\\n",
        "A → Sul: 500 \\ \\text{barris/dia}; \\\\\n",
        "Sul → B: 300 \\ \\text{barris/dia}; \\\\\n",
        "Sul → Norte: 300 \\ \\text{barris/dia}. \\\\\n",
        "\\end{alignat}\n"
      ],
      "metadata": {
        "id": "dDEHhz28OnKz"
      }
    },
    {
      "cell_type": "markdown",
      "source": [
        "### Variáveis\n",
        "\n",
        "* $x_{1}$: número de barris/dia de $A → Norte$;\n",
        "* $x_{2}$: número de barris/dia de $Norte → B$;\n",
        "* $x_{3}$: número de barris/dia de $A → Sul$;\n",
        "* $x_{4}$: número de barris/dia de $Sul → B$;\n",
        "* $x_{5}$: número de barris/dia de $Sul → Norte$."
      ],
      "metadata": {
        "id": "BDYC_Y_WOoTE"
      }
    },
    {
      "cell_type": "markdown",
      "source": [
        "### Função Objetivo\n",
        "\n",
        "Consiste em **maximizar** os barris por dia transportados de A para B.\n",
        "\\begin{equation}\n",
        "max f(x) = x_{1} + x_{2} + x_{3} + x_{4} + x_{5}\n",
        "\\end{equation}"
      ],
      "metadata": {
        "id": "wnivV0RoOs4X"
      }
    },
    {
      "cell_type": "markdown",
      "source": [
        "### Restrições\n",
        "\n",
        "* Restrição 1: Capacidade máxima de barris/dia de cada aresta.\n",
        "\\begin{alignat}{2}\n",
        "x_{1} \\le 300 \\\\\n",
        "x_{2} \\le 400 \\\\\n",
        "x_{3} \\le 500 \\\\\n",
        "x_{4} \\le 300 \\\\\n",
        "x_{5} \\le 300\n",
        "\\end{alignat}\n",
        "\n",
        "* Restrição 2: Conservação de fluxo em cada estação intermediária.\n",
        "\\begin{alignat}{2}\n",
        "x_{2} = x_{1} + x_{5} \\quad (\\text{Norte}) \\\\\n",
        "x_{4} + x_{5} = x_{3} \\quad (\\text{Sul})\n",
        "\\end{alignat}"
      ],
      "metadata": {
        "id": "FzYZPd2JO8X1"
      }
    },
    {
      "cell_type": "markdown",
      "source": [
        "### Modelo\n",
        "\n",
        "\\begin{equation}\n",
        "max f(x) = x_{1} + x_{2} + x_{3} + x_{4} + x_{5}\n",
        "\\end{equation}\n",
        "\n",
        "sujeito a:\n",
        "\n",
        "\\begin{alignat}{2}\n",
        "x_{1} \\le 300 \\\\\n",
        "x_{2} \\le 400 \\\\\n",
        "x_{3} \\le 500 \\\\\n",
        "x_{4} \\le 300 \\\\\n",
        "x_{5} \\le 300 \\\\\n",
        "x_{2} = x_{1} + x_{5} \\\\\n",
        "x_{4} + x_{5} = x_{3} \\\\\n",
        "x_{i} \\ge 0, \\quad i = 1,..., 5\n",
        "\\end{alignat}"
      ],
      "metadata": {
        "id": "_v4VN3WiPChs"
      }
    },
    {
      "cell_type": "markdown",
      "source": [
        "### Instalação da biblioteca Gurobi"
      ],
      "metadata": {
        "id": "u2HCq-RyPakp"
      }
    },
    {
      "cell_type": "code",
      "source": [
        "!pip install gurobipy"
      ],
      "metadata": {
        "id": "LIV6rHPkPfCf",
        "colab": {
          "base_uri": "https://localhost:8080/"
        },
        "outputId": "25f8c56d-63f5-4f59-bb37-21f6f8288340"
      },
      "execution_count": null,
      "outputs": [
        {
          "output_type": "stream",
          "name": "stdout",
          "text": [
            "Collecting gurobipy\n",
            "  Downloading gurobipy-12.0.0-cp310-cp310-manylinux2014_x86_64.manylinux_2_17_x86_64.whl.metadata (15 kB)\n",
            "Downloading gurobipy-12.0.0-cp310-cp310-manylinux2014_x86_64.manylinux_2_17_x86_64.whl (14.4 MB)\n",
            "\u001b[2K   \u001b[90m━━━━━━━━━━━━━━━━━━━━━━━━━━━━━━━━━━━━━━━━\u001b[0m \u001b[32m14.4/14.4 MB\u001b[0m \u001b[31m55.9 MB/s\u001b[0m eta \u001b[36m0:00:00\u001b[0m\n",
            "\u001b[?25hInstalling collected packages: gurobipy\n",
            "Successfully installed gurobipy-12.0.0\n"
          ]
        }
      ]
    },
    {
      "cell_type": "markdown",
      "source": [
        "### Declaração do objeto que representa o modelo matemático"
      ],
      "metadata": {
        "id": "8j3QIyh1Pd2F"
      }
    },
    {
      "cell_type": "code",
      "source": [
        "from gurobipy import Model, GRB\n",
        "\n",
        "modelo = Model(\"transportadora_oleos\")"
      ],
      "metadata": {
        "id": "5GoED-D_PivS"
      },
      "execution_count": null,
      "outputs": []
    },
    {
      "cell_type": "markdown",
      "source": [
        "### Variáveis de decisão"
      ],
      "metadata": {
        "id": "1ewrABiCPkeQ"
      }
    },
    {
      "cell_type": "code",
      "source": [
        "A_Norte_var = modelo.addVar(name=\"A_Norte\", vtype=GRB.CONTINUOUS, lb=0)\n",
        "Norte_B_var = modelo.addVar(name=\"Norte_B\", vtype=GRB.CONTINUOUS, lb=0)\n",
        "A_Sul_var = modelo.addVar(name=\"A_Sul\", vtype=GRB.CONTINUOUS, lb=0)\n",
        "Sul_B_var = modelo.addVar(name=\"Sul_B\", vtype=GRB.CONTINUOUS, lb=0)\n",
        "Sul_Norte_var = modelo.addVar(name=\"Sul_Norte\", vtype=GRB.CONTINUOUS, lb=0)"
      ],
      "metadata": {
        "id": "_Yy_Q25TPlMl"
      },
      "execution_count": null,
      "outputs": []
    },
    {
      "cell_type": "markdown",
      "source": [
        "### Função objetivo"
      ],
      "metadata": {
        "id": "PY9ZJYvmPlgd"
      }
    },
    {
      "cell_type": "code",
      "source": [
        "modelo.setObjective(A_Norte_var + Norte_B_var + A_Sul_var + Sul_B_var + Sul_Norte_var, GRB.MAXIMIZE)"
      ],
      "metadata": {
        "id": "jGsOxI5VPnXR"
      },
      "execution_count": null,
      "outputs": []
    },
    {
      "cell_type": "markdown",
      "source": [
        "### Restrições"
      ],
      "metadata": {
        "id": "Bs7wH_YrPnh1"
      }
    },
    {
      "cell_type": "code",
      "source": [
        "modelo.addConstr(A_Norte_var <= 300, \"capacidade_A_Norte\")\n",
        "modelo.addConstr(Norte_B_var <= 400, \"capacidade_Norte_B\")\n",
        "modelo.addConstr(A_Sul_var <= 500, \"capacidade_A_Sul\")\n",
        "modelo.addConstr(Sul_B_var <= 300, \"capacidade_Sul_B\")\n",
        "modelo.addConstr(Sul_Norte_var <= 300, \"capacidade_Sul_Norte\")\n",
        "modelo.addConstr(Norte_B_var == A_Norte_var + Sul_Norte_var, \"conservacao_Norte\")\n",
        "modelo.addConstr(Sul_B_var + Sul_Norte_var == A_Sul_var, \"conservacao_Sul\")"
      ],
      "metadata": {
        "id": "h6yQS3JPPqHL",
        "colab": {
          "base_uri": "https://localhost:8080/"
        },
        "outputId": "ce67ade7-06b9-4afd-e6d1-75e7c39e2a1c"
      },
      "execution_count": null,
      "outputs": [
        {
          "output_type": "execute_result",
          "data": {
            "text/plain": [
              "<gurobi.Constr *Awaiting Model Update*>"
            ]
          },
          "metadata": {},
          "execution_count": 121
        }
      ]
    },
    {
      "cell_type": "markdown",
      "source": [
        "### Resolvendo o problema"
      ],
      "metadata": {
        "id": "AkyHXfHkPqTh"
      }
    },
    {
      "cell_type": "code",
      "source": [
        "modelo.optimize()"
      ],
      "metadata": {
        "id": "Yu5IpUX5PsqH",
        "colab": {
          "base_uri": "https://localhost:8080/"
        },
        "outputId": "3aa51f7a-5877-4720-e99d-e0690f454e2e"
      },
      "execution_count": null,
      "outputs": [
        {
          "output_type": "stream",
          "name": "stdout",
          "text": [
            "Gurobi Optimizer version 12.0.0 build v12.0.0rc1 (linux64 - \"Ubuntu 22.04.3 LTS\")\n",
            "\n",
            "CPU model: Intel(R) Xeon(R) CPU @ 2.20GHz, instruction set [SSE2|AVX|AVX2]\n",
            "Thread count: 1 physical cores, 2 logical processors, using up to 2 threads\n",
            "\n",
            "Optimize a model with 7 rows, 5 columns and 11 nonzeros\n",
            "Model fingerprint: 0xcf95365e\n",
            "Coefficient statistics:\n",
            "  Matrix range     [1e+00, 1e+00]\n",
            "  Objective range  [1e+00, 1e+00]\n",
            "  Bounds range     [0e+00, 0e+00]\n",
            "  RHS range        [3e+02, 5e+02]\n",
            "Presolve removed 5 rows and 0 columns\n",
            "Presolve time: 0.01s\n",
            "Presolved: 2 rows, 5 columns, 6 nonzeros\n",
            "\n",
            "Iteration    Objective       Primal Inf.    Dual Inf.      Time\n",
            "       0    1.8000000e+03   3.750000e+01   0.000000e+00      0s\n",
            "       2    1.6000000e+03   0.000000e+00   0.000000e+00      0s\n",
            "\n",
            "Solved in 2 iterations and 0.02 seconds (0.00 work units)\n",
            "Optimal objective  1.600000000e+03\n"
          ]
        }
      ]
    },
    {
      "cell_type": "markdown",
      "source": [
        "### Imprimindo as soluções do problema"
      ],
      "metadata": {
        "id": "84TEBmrNPuyn"
      }
    },
    {
      "cell_type": "code",
      "source": [
        "if(modelo.status == GRB.OPTIMAL):\n",
        "  print(f\"A → Norte: {A_Norte_var.X}\")\n",
        "  print(f\"Norte → B: {Norte_B_var.X}\")\n",
        "  print(f\"A → Sul: {A_Sul_var.X}\")\n",
        "  print(f\"Sul → B: {Sul_B_var.X}\")\n",
        "  print(f\"Sul → Norte: {Sul_Norte_var.X}\")\n",
        "  print(f\"Valor ótimo: {modelo.objVal}\")"
      ],
      "metadata": {
        "id": "NkUJLNprPvp0",
        "colab": {
          "base_uri": "https://localhost:8080/"
        },
        "outputId": "40a41ba8-d9ff-48fb-bb79-f893f830e7db"
      },
      "execution_count": null,
      "outputs": [
        {
          "output_type": "stream",
          "name": "stdout",
          "text": [
            "A → Norte: 200.0\n",
            "Norte → B: 400.0\n",
            "A → Sul: 500.0\n",
            "Sul → B: 300.0\n",
            "Sul → Norte: 200.0\n",
            "Valor ótimo: 1600.0\n"
          ]
        }
      ]
    },
    {
      "cell_type": "markdown",
      "source": [
        "## 2) Análise de Sensibilidade"
      ],
      "metadata": {
        "id": "OiniRUNcP7A7"
      }
    },
    {
      "cell_type": "code",
      "source": [
        "print(\"\\nIntervalos de Custos (Vetor de Custos):\")\n",
        "for variavel in modelo.getVars():\n",
        "  print(f\"Variável {variavel.VarName}:\")\n",
        "  print(f\"  lower bound do custo (SAObjLow): {variavel.SAObjLow}\")\n",
        "  print(f\"  upper bound do custo (SAObjUp): {variavel.SAObjUp}\")\n",
        "\n",
        "print(\"\\nIntervalos de Recursos (Vetor de Recursos):\")\n",
        "for restricao in modelo.getConstrs():\n",
        "  print(f\"Restrição {restricao.ConstrName}:\")\n",
        "  print(f\"  lower bound do recurso (SARHSLow): {restricao.SARHSLow}\")\n",
        "  print(f\"  upper bound do recurso (SARHSUp): {restricao.SARHSUp}\")"
      ],
      "metadata": {
        "id": "twVkDnSwQLmm",
        "colab": {
          "base_uri": "https://localhost:8080/"
        },
        "collapsed": true,
        "outputId": "b31e8b73-0339-4250-d513-403e9e8b1939"
      },
      "execution_count": null,
      "outputs": [
        {
          "output_type": "stream",
          "name": "stdout",
          "text": [
            "\n",
            "Intervalos de Custos (Vetor de Custos):\n",
            "Variável A_Norte:\n",
            "  lower bound do custo (SAObjLow): -0.0\n",
            "  upper bound do custo (SAObjUp): 2.0\n",
            "Variável Norte_B:\n",
            "  lower bound do custo (SAObjLow): -1.0\n",
            "  upper bound do custo (SAObjUp): inf\n",
            "Variável A_Sul:\n",
            "  lower bound do custo (SAObjLow): -0.0\n",
            "  upper bound do custo (SAObjUp): inf\n",
            "Variável Sul_B:\n",
            "  lower bound do custo (SAObjLow): -0.0\n",
            "  upper bound do custo (SAObjUp): inf\n",
            "Variável Sul_Norte:\n",
            "  lower bound do custo (SAObjLow): -0.0\n",
            "  upper bound do custo (SAObjUp): 2.0\n",
            "\n",
            "Intervalos de Recursos (Vetor de Recursos):\n",
            "Restrição capacidade_A_Norte:\n",
            "  lower bound do recurso (SARHSLow): 200.0\n",
            "  upper bound do recurso (SARHSUp): inf\n",
            "Restrição capacidade_Norte_B:\n",
            "  lower bound do recurso (SARHSLow): 200.0\n",
            "  upper bound do recurso (SARHSUp): 500.0\n",
            "Restrição capacidade_A_Sul:\n",
            "  lower bound do recurso (SARHSLow): 400.0\n",
            "  upper bound do recurso (SARHSUp): 600.0\n",
            "Restrição capacidade_Sul_B:\n",
            "  lower bound do recurso (SARHSLow): 200.0\n",
            "  upper bound do recurso (SARHSUp): 400.0\n",
            "Restrição capacidade_Sul_Norte:\n",
            "  lower bound do recurso (SARHSLow): 200.0\n",
            "  upper bound do recurso (SARHSUp): inf\n",
            "Restrição conservacao_Norte:\n",
            "  lower bound do recurso (SARHSLow): -100.0\n",
            "  upper bound do recurso (SARHSUp): 200.0\n",
            "Restrição conservacao_Sul:\n",
            "  lower bound do recurso (SARHSLow): -100.0\n",
            "  upper bound do recurso (SARHSUp): 100.0\n"
          ]
        }
      ]
    },
    {
      "cell_type": "markdown",
      "source": [
        "### Vetor de Custos\n",
        "\n",
        "* Infinitos: Norte → B, A → Sul e Sul → B tendem ao mais infinito, ou seja, não importa o quando aumentarmos o custo dessas variáveis, isso não alterará a solução ótima. Portanto, a solução básica não muda.\n",
        "* Custo inferior a 0: Todas as variáveis, exceto Norte → B, possuem um limitante inferior a 0, isso indica que se seus custos forem inferiores a 0, eles sairão da base;\n",
        "* Norte → B: O interessante dessa variável é perceber que ela pode assumir um valor nulo e mesmo assim não sairá da base;\n",
        "* A → Norte e Sul → Norte: essas variáveis possuem um limitante superior igual a 2. Isso indica que ao aumentar o custo delas, seus caminhos terão uma importância maior. Isso é bastante interessante, pois podemos definir diferentes rotas que garantem a mesma quantidade de barris/dia, mas o fluxo é diferente."
      ],
      "metadata": {
        "id": "Pbnlg3OfQMVd"
      }
    },
    {
      "cell_type": "markdown",
      "source": [
        "###  Vetor de Recursos\n",
        "\n",
        "* Infinitos: não importa o quanto capacidade_A_Norte ou capacidade_Sul_Norte aumentem, a solução ótima sempre será a mesma;\n",
        "* Para os demais valores há sempre um limite inferior e superior, indicando que se o recurso ultrapassar um desses valores algum elemento da solução básica será negativo, ou seja, o PL se torna infactível e será necessário ser resolvido novamente."
      ],
      "metadata": {
        "id": "DoFVncinLpQM"
      }
    }
  ]
}